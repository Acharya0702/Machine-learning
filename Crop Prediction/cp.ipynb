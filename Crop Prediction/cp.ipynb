{
 "cells": [
  {
   "cell_type": "code",
   "execution_count": 1,
   "metadata": {},
   "outputs": [],
   "source": [
    "#importing all the required libraies\n",
    "import pandas  as pd\n",
    "import numpy as np\n",
    "import matplotlib.pyplot as plt\n",
    "import seaborn as sns\n",
    "%matplotlib inline\n",
    "from sklearn.model_selection import train_test_split\n",
    "from sklearn.ensemble import RandomForestClassifier\n",
    "from sklearn.metrics import classification_report, confusion_matrix, accuracy_score\n",
    "import joblib\n",
    "import warnings\n",
    "warnings.filterwarnings('ignore')"
   ]
  },
  {
   "cell_type": "code",
   "execution_count": 5,
   "metadata": {},
   "outputs": [
    {
     "data": {
      "text/html": [
       "<div>\n",
       "<style scoped>\n",
       "    .dataframe tbody tr th:only-of-type {\n",
       "        vertical-align: middle;\n",
       "    }\n",
       "\n",
       "    .dataframe tbody tr th {\n",
       "        vertical-align: top;\n",
       "    }\n",
       "\n",
       "    .dataframe thead th {\n",
       "        text-align: right;\n",
       "    }\n",
       "</style>\n",
       "<table border=\"1\" class=\"dataframe\">\n",
       "  <thead>\n",
       "    <tr style=\"text-align: right;\">\n",
       "      <th></th>\n",
       "      <th>temperature</th>\n",
       "      <th>humidity</th>\n",
       "      <th>ph</th>\n",
       "      <th>rainfall</th>\n",
       "      <th>label</th>\n",
       "    </tr>\n",
       "  </thead>\n",
       "  <tbody>\n",
       "    <tr>\n",
       "      <th>0</th>\n",
       "      <td>20.879744</td>\n",
       "      <td>82.002744</td>\n",
       "      <td>6.502985</td>\n",
       "      <td>202.935536</td>\n",
       "      <td>rice</td>\n",
       "    </tr>\n",
       "    <tr>\n",
       "      <th>1</th>\n",
       "      <td>21.770462</td>\n",
       "      <td>80.319644</td>\n",
       "      <td>7.038096</td>\n",
       "      <td>226.655537</td>\n",
       "      <td>rice</td>\n",
       "    </tr>\n",
       "    <tr>\n",
       "      <th>2</th>\n",
       "      <td>23.004459</td>\n",
       "      <td>82.320763</td>\n",
       "      <td>7.840207</td>\n",
       "      <td>263.964248</td>\n",
       "      <td>rice</td>\n",
       "    </tr>\n",
       "    <tr>\n",
       "      <th>3</th>\n",
       "      <td>26.491096</td>\n",
       "      <td>80.158363</td>\n",
       "      <td>6.980401</td>\n",
       "      <td>242.864034</td>\n",
       "      <td>rice</td>\n",
       "    </tr>\n",
       "    <tr>\n",
       "      <th>4</th>\n",
       "      <td>20.130175</td>\n",
       "      <td>81.604873</td>\n",
       "      <td>7.628473</td>\n",
       "      <td>262.717340</td>\n",
       "      <td>rice</td>\n",
       "    </tr>\n",
       "  </tbody>\n",
       "</table>\n",
       "</div>"
      ],
      "text/plain": [
       "   temperature   humidity        ph    rainfall label\n",
       "0    20.879744  82.002744  6.502985  202.935536  rice\n",
       "1    21.770462  80.319644  7.038096  226.655537  rice\n",
       "2    23.004459  82.320763  7.840207  263.964248  rice\n",
       "3    26.491096  80.158363  6.980401  242.864034  rice\n",
       "4    20.130175  81.604873  7.628473  262.717340  rice"
      ]
     },
     "execution_count": 5,
     "metadata": {},
     "output_type": "execute_result"
    }
   ],
   "source": [
    "df=pd.read_csv('cpdata.csv')\n",
    "df.head()"
   ]
  },
  {
   "cell_type": "code",
   "execution_count": 3,
   "metadata": {},
   "outputs": [
    {
     "name": "stdout",
     "output_type": "stream",
     "text": [
      "<class 'pandas.core.frame.DataFrame'>\n",
      "RangeIndex: 3100 entries, 0 to 3099\n",
      "Data columns (total 5 columns):\n",
      " #   Column       Non-Null Count  Dtype  \n",
      "---  ------       --------------  -----  \n",
      " 0   temperature  3100 non-null   float64\n",
      " 1   humidity     3100 non-null   float64\n",
      " 2   ph           3100 non-null   float64\n",
      " 3   rainfall     3100 non-null   float64\n",
      " 4   label        3100 non-null   object \n",
      "dtypes: float64(4), object(1)\n",
      "memory usage: 121.2+ KB\n"
     ]
    }
   ],
   "source": [
    "df.info()"
   ]
  },
  {
   "cell_type": "code",
   "execution_count": 4,
   "metadata": {},
   "outputs": [
    {
     "data": {
      "text/html": [
       "<div>\n",
       "<style scoped>\n",
       "    .dataframe tbody tr th:only-of-type {\n",
       "        vertical-align: middle;\n",
       "    }\n",
       "\n",
       "    .dataframe tbody tr th {\n",
       "        vertical-align: top;\n",
       "    }\n",
       "\n",
       "    .dataframe thead th {\n",
       "        text-align: right;\n",
       "    }\n",
       "</style>\n",
       "<table border=\"1\" class=\"dataframe\">\n",
       "  <thead>\n",
       "    <tr style=\"text-align: right;\">\n",
       "      <th></th>\n",
       "      <th>temperature</th>\n",
       "      <th>humidity</th>\n",
       "      <th>ph</th>\n",
       "      <th>rainfall</th>\n",
       "    </tr>\n",
       "  </thead>\n",
       "  <tbody>\n",
       "    <tr>\n",
       "      <th>count</th>\n",
       "      <td>3100.000000</td>\n",
       "      <td>3100.000000</td>\n",
       "      <td>3100.000000</td>\n",
       "      <td>3100.000000</td>\n",
       "    </tr>\n",
       "    <tr>\n",
       "      <th>mean</th>\n",
       "      <td>27.108466</td>\n",
       "      <td>66.005312</td>\n",
       "      <td>6.368913</td>\n",
       "      <td>110.213031</td>\n",
       "    </tr>\n",
       "    <tr>\n",
       "      <th>std</th>\n",
       "      <td>7.566308</td>\n",
       "      <td>24.007713</td>\n",
       "      <td>0.809477</td>\n",
       "      <td>64.048562</td>\n",
       "    </tr>\n",
       "    <tr>\n",
       "      <th>min</th>\n",
       "      <td>8.825675</td>\n",
       "      <td>10.034048</td>\n",
       "      <td>3.504752</td>\n",
       "      <td>20.211267</td>\n",
       "    </tr>\n",
       "    <tr>\n",
       "      <th>25%</th>\n",
       "      <td>22.810495</td>\n",
       "      <td>55.244920</td>\n",
       "      <td>5.895343</td>\n",
       "      <td>64.909095</td>\n",
       "    </tr>\n",
       "    <tr>\n",
       "      <th>50%</th>\n",
       "      <td>26.102848</td>\n",
       "      <td>68.980529</td>\n",
       "      <td>6.342518</td>\n",
       "      <td>97.057093</td>\n",
       "    </tr>\n",
       "    <tr>\n",
       "      <th>75%</th>\n",
       "      <td>29.365644</td>\n",
       "      <td>84.446524</td>\n",
       "      <td>6.841616</td>\n",
       "      <td>141.210784</td>\n",
       "    </tr>\n",
       "    <tr>\n",
       "      <th>max</th>\n",
       "      <td>54.986760</td>\n",
       "      <td>99.981876</td>\n",
       "      <td>9.935091</td>\n",
       "      <td>397.315380</td>\n",
       "    </tr>\n",
       "  </tbody>\n",
       "</table>\n",
       "</div>"
      ],
      "text/plain": [
       "       temperature     humidity           ph     rainfall\n",
       "count  3100.000000  3100.000000  3100.000000  3100.000000\n",
       "mean     27.108466    66.005312     6.368913   110.213031\n",
       "std       7.566308    24.007713     0.809477    64.048562\n",
       "min       8.825675    10.034048     3.504752    20.211267\n",
       "25%      22.810495    55.244920     5.895343    64.909095\n",
       "50%      26.102848    68.980529     6.342518    97.057093\n",
       "75%      29.365644    84.446524     6.841616   141.210784\n",
       "max      54.986760    99.981876     9.935091   397.315380"
      ]
     },
     "execution_count": 4,
     "metadata": {},
     "output_type": "execute_result"
    }
   ],
   "source": [
    "df.describe()"
   ]
  },
  {
   "cell_type": "code",
   "execution_count": 6,
   "metadata": {},
   "outputs": [
    {
     "data": {
      "text/plain": [
       "(3100, 5)"
      ]
     },
     "execution_count": 6,
     "metadata": {},
     "output_type": "execute_result"
    }
   ],
   "source": [
    "df.shape"
   ]
  },
  {
   "cell_type": "code",
   "execution_count": 10,
   "metadata": {},
   "outputs": [
    {
     "data": {
      "image/png": "[encoded data removed]",
      "text/plain": [
       "<Figure size 1440x720 with 2 Axes>"
      ]
     },
     "metadata": {
      "needs_background": "light"
     },
     "output_type": "display_data"
    }
   ],
   "source": [
    "plt.figure(figsize=(20,10))\n",
    "sns.heatmap(df.corr(), annot=True, cmap='prism')\n",
    "plt.show()"
   ]
  },
  {
   "cell_type": "code",
   "execution_count": 14,
   "metadata": {},
   "outputs": [
    {
     "data": {
      "text/plain": [
       "temperature    0\n",
       "humidity       0\n",
       "ph             0\n",
       "rainfall       0\n",
       "label          0\n",
       "dtype: int64"
      ]
     },
     "execution_count": 14,
     "metadata": {},
     "output_type": "execute_result"
    }
   ],
   "source": [
    "df.isnull().sum()"
   ]
  },
  {
   "cell_type": "code",
   "execution_count": 15,
   "metadata": {},
   "outputs": [
    {
     "data": {
      "text/plain": [
       "0"
      ]
     },
     "execution_count": 15,
     "metadata": {},
     "output_type": "execute_result"
    }
   ],
   "source": [
    "df.duplicated().sum()"
   ]
  },
  {
   "cell_type": "code",
   "execution_count": 16,
   "metadata": {},
   "outputs": [
    {
     "data": {
      "text/plain": [
       "temperature    float64\n",
       "humidity       float64\n",
       "ph             float64\n",
       "rainfall       float64\n",
       "label           object\n",
       "dtype: object"
      ]
     },
     "execution_count": 16,
     "metadata": {},
     "output_type": "execute_result"
    }
   ],
   "source": [
    "df.dtypes"
   ]
  },
  {
   "cell_type": "code",
   "execution_count": 18,
   "metadata": {},
   "outputs": [
    {
     "data": {
      "text/plain": [
       "array(['rice', 'wheat', 'Mung Bean', 'Tea', 'millet', 'maize', 'Lentil',\n",
       "       'Jute', 'Coffee', 'Cotton', 'Ground Nut', 'Peas', 'Rubber',\n",
       "       'Sugarcane', 'Tobacco', 'Kidney Beans', 'Moth Beans', 'Coconut',\n",
       "       'Black gram', 'Adzuki Beans', 'Pigeon Peas', 'Chickpea', 'banana',\n",
       "       'grapes', 'apple', 'mango', 'muskmelon', 'orange', 'papaya',\n",
       "       'pomegranate', 'watermelon'], dtype=object)"
      ]
     },
     "execution_count": 18,
     "metadata": {},
     "output_type": "execute_result"
    }
   ],
   "source": [
    "df['label'].unique()"
   ]
  },
  {
   "cell_type": "code",
   "execution_count": 129,
   "metadata": {},
   "outputs": [
    {
     "data": {
      "text/plain": [
       "array(['rice', 'wheat', 'MungBean', 'Tea', 'millet', 'maize', 'Lentil',\n",
       "       'Jute', 'Coffee', 'Cotton', 'GroundNut', 'Peas', 'Rubber',\n",
       "       'Sugarcane', 'Tobacco', 'KidneyBeans', 'MothBeans', 'Coconut',\n",
       "       'Blackgram', 'AdzukiBeans', 'PigeonPeas', 'Chickpea', 'banana',\n",
       "       'grapes', 'apple', 'mango', 'muskmelon', 'orange', 'papaya',\n",
       "       'pomegranate', 'watermelon'], dtype=object)"
      ]
     },
     "execution_count": 129,
     "metadata": {},
     "output_type": "execute_result"
    }
   ],
   "source": [
    "df['label']=df['label'].str.strip()\n",
    "for i in range(len(df['label'])):\n",
    "    df['label'][i]=df['label'][i].replace(' ','')\n",
    "df['label'].unique()"
   ]
  },
  {
   "cell_type": "code",
   "execution_count": 130,
   "metadata": {},
   "outputs": [
    {
     "data": {
      "text/plain": [
       "rice           100\n",
       "MothBeans      100\n",
       "pomegranate    100\n",
       "papaya         100\n",
       "orange         100\n",
       "muskmelon      100\n",
       "mango          100\n",
       "apple          100\n",
       "grapes         100\n",
       "banana         100\n",
       "Chickpea       100\n",
       "PigeonPeas     100\n",
       "AdzukiBeans    100\n",
       "Blackgram      100\n",
       "Coconut        100\n",
       "KidneyBeans    100\n",
       "wheat          100\n",
       "Tobacco        100\n",
       "Sugarcane      100\n",
       "Rubber         100\n",
       "Peas           100\n",
       "GroundNut      100\n",
       "Cotton         100\n",
       "Coffee         100\n",
       "Jute           100\n",
       "Lentil         100\n",
       "maize          100\n",
       "millet         100\n",
       "Tea            100\n",
       "MungBean       100\n",
       "watermelon     100\n",
       "Name: label, dtype: int64"
      ]
     },
     "execution_count": 130,
     "metadata": {},
     "output_type": "execute_result"
    }
   ],
   "source": [
    "df['label'].value_counts()"
   ]
  },
  {
   "cell_type": "code",
   "execution_count": 20,
   "metadata": {},
   "outputs": [
    {
     "data": {
      "image/png": "[encoded data removed]",
      "text/plain": [
       "<Figure size 1800x360 with 1 Axes>"
      ]
     },
     "metadata": {
      "needs_background": "light"
     },
     "output_type": "display_data"
    }
   ],
   "source": [
    "plt.figure(figsize=(25,5))\n",
    "ax=sns.countplot(df['label'])\n",
    "for p in ax.patches:\n",
    "    ax.annotate(f'\\n{p.get_height()}',(p.get_x(),p.get_height()),ha='center',va='center',color='#000000',size=18)\n",
    "plt.show()"
   ]
  },
  {
   "cell_type": "code",
   "execution_count": 132,
   "metadata": {},
   "outputs": [
    {
     "data": {
      "text/plain": [
       "Index(['temperature', 'humidity', 'ph', 'rainfall', 'label'], dtype='object')"
      ]
     },
     "execution_count": 132,
     "metadata": {},
     "output_type": "execute_result"
    }
   ],
   "source": [
    "df.columns"
   ]
  },
  {
   "cell_type": "markdown",
   "metadata": {},
   "source": [
    "Separate the dependent and independent feature"
   ]
  },
  {
   "cell_type": "code",
   "execution_count": 21,
   "metadata": {},
   "outputs": [
    {
     "name": "stdout",
     "output_type": "stream",
     "text": [
      "==================== X ====================\n",
      "   temperature   humidity        ph    rainfall\n",
      "0    20.879744  82.002744  6.502985  202.935536\n",
      "1    21.770462  80.319644  7.038096  226.655537\n",
      "2    23.004459  82.320763  7.840207  263.964248\n",
      "3    26.491096  80.158363  6.980401  242.864034\n",
      "4    20.130175  81.604873  7.628473  262.717340\n",
      "===== y =====\n",
      "0    rice\n",
      "1    rice\n",
      "2    rice\n",
      "3    rice\n",
      "4    rice\n",
      "Name: label, dtype: object\n"
     ]
    }
   ],
   "source": [
    "X=df[['temperature', 'humidity', 'ph', 'rainfall']]\n",
    "y=df['label']\n",
    "print('='*20,'X','='*20)\n",
    "print(X.head())\n",
    "print('='*5,'y','='*5)\n",
    "print(y.head())"
   ]
  },
  {
   "cell_type": "markdown",
   "metadata": {},
   "source": [
    "# spiliting the data into training and testing set"
   ]
  },
  {
   "cell_type": "code",
   "execution_count": 23,
   "metadata": {},
   "outputs": [],
   "source": [
    "X_train, X_test, y_train, y_test = train_test_split(X, y, test_size=0.25, random_state=42)"
   ]
  },
  {
   "cell_type": "code",
   "execution_count": 24,
   "metadata": {},
   "outputs": [
    {
     "name": "stdout",
     "output_type": "stream",
     "text": [
      "(3100, 5)\n",
      "(2325, 4)\n",
      "(775, 4)\n",
      "(2325,)\n",
      "(775,)\n"
     ]
    }
   ],
   "source": [
    "print(df.shape)\n",
    "print(X_train.shape)\n",
    "print(X_test.shape)\n",
    "print(y_train.shape)\n",
    "print(y_test.shape)"
   ]
  },
  {
   "cell_type": "markdown",
   "metadata": {},
   "source": [
    "# build the model"
   ]
  },
  {
   "cell_type": "code",
   "execution_count": 25,
   "metadata": {},
   "outputs": [
    {
     "data": {
      "text/html": [
       "<style>#sk-container-id-1 {color: black;background-color: white;}#sk-container-id-1 pre{padding: 0;}#sk-container-id-1 div.sk-toggleable {background-color: white;}#sk-container-id-1 label.sk-toggleable__label {cursor: pointer;display: block;width: 100%;margin-bottom: 0;padding: 0.3em;box-sizing: border-box;text-align: center;}#sk-container-id-1 label.sk-toggleable__label-arrow:before {content: \"▸\";float: left;margin-right: 0.25em;color: #696969;}#sk-container-id-1 label.sk-toggleable__label-arrow:hover:before {color: black;}#sk-container-id-1 div.sk-estimator:hover label.sk-toggleable__label-arrow:before {color: black;}#sk-container-id-1 div.sk-toggleable__content {max-height: 0;max-width: 0;overflow: hidden;text-align: left;background-color: #f0f8ff;}#sk-container-id-1 div.sk-toggleable__content pre {margin: 0.2em;color: black;border-radius: 0.25em;background-color: #f0f8ff;}#sk-container-id-1 input.sk-toggleable__control:checked~div.sk-toggleable__content {max-height: 200px;max-width: 100%;overflow: auto;}#sk-container-id-1 input.sk-toggleable__control:checked~label.sk-toggleable__label-arrow:before {content: \"▾\";}#sk-container-id-1 div.sk-estimator input.sk-toggleable__control:checked~label.sk-toggleable__label {background-color: #d4ebff;}#sk-container-id-1 div.sk-label input.sk-toggleable__control:checked~label.sk-toggleable__label {background-color: #d4ebff;}#sk-container-id-1 input.sk-hidden--visually {border: 0;clip: rect(1px 1px 1px 1px);clip: rect(1px, 1px, 1px, 1px);height: 1px;margin: -1px;overflow: hidden;padding: 0;position: absolute;width: 1px;}#sk-container-id-1 div.sk-estimator {font-family: monospace;background-color: #f0f8ff;border: 1px dotted black;border-radius: 0.25em;box-sizing: border-box;margin-bottom: 0.5em;}#sk-container-id-1 div.sk-estimator:hover {background-color: #d4ebff;}#sk-container-id-1 div.sk-parallel-item::after {content: \"\";width: 100%;border-bottom: 1px solid gray;flex-grow: 1;}#sk-container-id-1 div.sk-label:hover label.sk-toggleable__label {background-color: #d4ebff;}#sk-container-id-1 div.sk-serial::before {content: \"\";position: absolute;border-left: 1px solid gray;box-sizing: border-box;top: 0;bottom: 0;left: 50%;z-index: 0;}#sk-container-id-1 div.sk-serial {display: flex;flex-direction: column;align-items: center;background-color: white;padding-right: 0.2em;padding-left: 0.2em;position: relative;}#sk-container-id-1 div.sk-item {position: relative;z-index: 1;}#sk-container-id-1 div.sk-parallel {display: flex;align-items: stretch;justify-content: center;background-color: white;position: relative;}#sk-container-id-1 div.sk-item::before, #sk-container-id-1 div.sk-parallel-item::before {content: \"\";position: absolute;border-left: 1px solid gray;box-sizing: border-box;top: 0;bottom: 0;left: 50%;z-index: -1;}#sk-container-id-1 div.sk-parallel-item {display: flex;flex-direction: column;z-index: 1;position: relative;background-color: white;}#sk-container-id-1 div.sk-parallel-item:first-child::after {align-self: flex-end;width: 50%;}#sk-container-id-1 div.sk-parallel-item:last-child::after {align-self: flex-start;width: 50%;}#sk-container-id-1 div.sk-parallel-item:only-child::after {width: 0;}#sk-container-id-1 div.sk-dashed-wrapped {border: 1px dashed gray;margin: 0 0.4em 0.5em 0.4em;box-sizing: border-box;padding-bottom: 0.4em;background-color: white;}#sk-container-id-1 div.sk-label label {font-family: monospace;font-weight: bold;display: inline-block;line-height: 1.2em;}#sk-container-id-1 div.sk-label-container {text-align: center;}#sk-container-id-1 div.sk-container {/* jupyter's `normalize.less` sets `[hidden] { display: none; }` but bootstrap.min.css set `[hidden] { display: none !important; }` so we also need the `!important` here to be able to override the default hidden behavior on the sphinx rendered scikit-learn.org. See: https://github.com/scikit-learn/scikit-learn/issues/21755 */display: inline-block !important;position: relative;}#sk-container-id-1 div.sk-text-repr-fallback {display: none;}</style><div id=\"sk-container-id-1\" class=\"sk-top-container\"><div class=\"sk-text-repr-fallback\"><pre>RandomForestClassifier()</pre><b>In a Jupyter environment, please rerun this cell to show the HTML representation or trust the notebook. <br />On GitHub, the HTML representation is unable to render, please try loading this page with nbviewer.org.</b></div><div class=\"sk-container\" hidden><div class=\"sk-item\"><div class=\"sk-estimator sk-toggleable\"><input class=\"sk-toggleable__control sk-hidden--visually\" id=\"sk-estimator-id-1\" type=\"checkbox\" checked><label for=\"sk-estimator-id-1\" class=\"sk-toggleable__label sk-toggleable__label-arrow\">RandomForestClassifier</label><div class=\"sk-toggleable__content\"><pre>RandomForestClassifier()</pre></div></div></div></div></div>"
      ],
      "text/plain": [
       "RandomForestClassifier()"
      ]
     },
     "execution_count": 25,
     "metadata": {},
     "output_type": "execute_result"
    }
   ],
   "source": [
    "model=RandomForestClassifier()\n",
    "model.fit(X_train,y_train)"
   ]
  },
  {
   "cell_type": "code",
   "execution_count": 26,
   "metadata": {},
   "outputs": [
    {
     "data": {
      "text/plain": [
       "array(['Sugarcane', 'pomegranate', 'Black gram', 'Moth Beans', 'Peas',\n",
       "       'Pigeon Peas', 'mango', 'Tobacco', 'Tea', 'Coconut', 'maize',\n",
       "       'Mung Bean', 'Lentil', 'muskmelon', 'papaya', 'Cotton', 'banana',\n",
       "       'Lentil', 'mango', 'Tobacco', 'orange', 'millet', 'Rubber',\n",
       "       'Mung Bean', 'muskmelon', 'pomegranate', 'pomegranate', 'millet',\n",
       "       'mango', 'maize', 'Black gram', 'Coconut', 'Pigeon Peas', 'Lentil',\n",
       "       'Rubber', 'grapes', 'Kidney Beans', 'wheat', 'mango',\n",
       "       'Kidney Beans', 'papaya', 'grapes', 'Tea', 'Tobacco',\n",
       "       'Adzuki Beans', 'orange', 'Black gram', 'Pigeon Peas', 'apple',\n",
       "       'pomegranate', 'Ground Nut', 'Mung Bean', 'grapes', 'Pigeon Peas',\n",
       "       'papaya', 'wheat', 'maize', 'wheat', 'Tobacco', 'millet',\n",
       "       'Tobacco', 'Sugarcane', 'orange', 'apple', 'millet', 'Black gram',\n",
       "       'orange', 'pomegranate', 'Mung Bean', 'watermelon', 'Kidney Beans',\n",
       "       'Tobacco', 'Mung Bean', 'Jute', 'Mung Bean', 'grapes', 'mango',\n",
       "       'orange', 'Tobacco', 'rice', 'wheat', 'rice', 'orange',\n",
       "       'Pigeon Peas', 'pomegranate', 'Adzuki Beans', 'pomegranate',\n",
       "       'Black gram', 'rice', 'papaya', 'Black gram', 'grapes',\n",
       "       'Moth Beans', 'Cotton', 'Tea', 'banana', 'Ground Nut', 'rice',\n",
       "       'Adzuki Beans', 'banana', 'Tobacco', 'papaya', 'watermelon',\n",
       "       'apple', 'Cotton', 'Jute', 'grapes', 'Adzuki Beans', 'wheat',\n",
       "       'Black gram', 'Pigeon Peas', 'wheat', 'maize', 'Peas', 'wheat',\n",
       "       'maize', 'muskmelon', 'millet', 'Sugarcane', 'Mung Bean', 'millet',\n",
       "       'Moth Beans', 'Mung Bean', 'banana', 'watermelon', 'Black gram',\n",
       "       'wheat', 'Jute', 'grapes', 'Ground Nut', 'mango', 'pomegranate',\n",
       "       'Ground Nut', 'Chickpea', 'papaya', 'maize', 'Peas', 'Tobacco',\n",
       "       'pomegranate', 'maize', 'Kidney Beans', 'Chickpea', 'Coffee',\n",
       "       'orange', 'Tea', 'rice', 'Black gram', 'papaya', 'Mung Bean',\n",
       "       'muskmelon', 'Mung Bean', 'pomegranate', 'rice', 'mango', 'rice',\n",
       "       'rice', 'Coffee', 'Adzuki Beans', 'Jute', 'Tea', 'wheat',\n",
       "       'Moth Beans', 'watermelon', 'Chickpea', 'Peas', 'Tea', 'Chickpea',\n",
       "       'papaya', 'Black gram', 'Moth Beans', 'Jute', 'Tobacco',\n",
       "       'pomegranate', 'banana', 'Mung Bean', 'wheat', 'wheat', 'maize',\n",
       "       'wheat', 'Mung Bean', 'Ground Nut', 'maize', 'Sugarcane',\n",
       "       'Adzuki Beans', 'Adzuki Beans', 'maize', 'watermelon', 'Rubber',\n",
       "       'banana', 'maize', 'Mung Bean', 'Coffee', 'Pigeon Peas', 'maize',\n",
       "       'Mung Bean', 'Coffee', 'Rubber', 'Mung Bean', 'maize',\n",
       "       'Black gram', 'Coconut', 'watermelon', 'Adzuki Beans', 'Tobacco',\n",
       "       'Chickpea', 'maize', 'Sugarcane', 'maize', 'millet', 'Rubber',\n",
       "       'Chickpea', 'apple', 'Black gram', 'Jute', 'orange', 'watermelon',\n",
       "       'maize', 'Coconut', 'Rubber', 'Black gram', 'mango', 'Tobacco',\n",
       "       'Rubber', 'Tobacco', 'Ground Nut', 'Jute', 'millet', 'Ground Nut',\n",
       "       'Lentil', 'Peas', 'Tea', 'Coconut', 'Coconut', 'Peas',\n",
       "       'Moth Beans', 'apple', 'Coffee', 'Black gram', 'papaya',\n",
       "       'Adzuki Beans', 'grapes', 'Jute', 'Lentil', 'Lentil', 'maize',\n",
       "       'Moth Beans', 'Mung Bean', 'Rubber', 'pomegranate', 'Tobacco',\n",
       "       'maize', 'Peas', 'Coffee', 'Tobacco', 'pomegranate', 'banana',\n",
       "       'Peas', 'Sugarcane', 'Coconut', 'grapes', 'orange', 'Rubber',\n",
       "       'Coffee', 'muskmelon', 'rice', 'banana', 'Coffee', 'watermelon',\n",
       "       'Sugarcane', 'wheat', 'orange', 'mango', 'Tea', 'watermelon',\n",
       "       'rice', 'banana', 'Black gram', 'Tea', 'Jute', 'Adzuki Beans',\n",
       "       'Coffee', 'Ground Nut', 'Peas', 'grapes', 'Tea', 'muskmelon',\n",
       "       'rice', 'Adzuki Beans', 'Sugarcane', 'Pigeon Peas', 'rice',\n",
       "       'millet', 'banana', 'millet', 'Chickpea', 'Kidney Beans',\n",
       "       'Adzuki Beans', 'papaya', 'Rubber', 'papaya', 'Coconut',\n",
       "       'Ground Nut', 'mango', 'Pigeon Peas', 'maize', 'grapes',\n",
       "       'Kidney Beans', 'Sugarcane', 'Ground Nut', 'muskmelon', 'Peas',\n",
       "       'Pigeon Peas', 'millet', 'Black gram', 'Kidney Beans', 'Coffee',\n",
       "       'watermelon', 'Lentil', 'Ground Nut', 'Rubber', 'Tea',\n",
       "       'Kidney Beans', 'Jute', 'rice', 'Adzuki Beans', 'Peas', 'banana',\n",
       "       'orange', 'watermelon', 'millet', 'apple', 'Peas', 'Coconut',\n",
       "       'Coconut', 'millet', 'Coffee', 'Rubber', 'grapes', 'Kidney Beans',\n",
       "       'Adzuki Beans', 'wheat', 'Chickpea', 'Sugarcane', 'Coffee',\n",
       "       'millet', 'Tobacco', 'banana', 'Lentil', 'apple', 'muskmelon',\n",
       "       'Coffee', 'Coffee', 'pomegranate', 'Lentil', 'Coconut', 'mango',\n",
       "       'apple', 'mango', 'wheat', 'pomegranate', 'Ground Nut', 'Tobacco',\n",
       "       'maize', 'muskmelon', 'grapes', 'Coconut', 'millet', 'Peas',\n",
       "       'Tobacco', 'Ground Nut', 'muskmelon', 'Cotton', 'wheat',\n",
       "       'pomegranate', 'pomegranate', 'muskmelon', 'Coffee', 'Rubber',\n",
       "       'Coconut', 'Cotton', 'muskmelon', 'rice', 'Chickpea', 'millet',\n",
       "       'Cotton', 'Coffee', 'Coffee', 'papaya', 'Mung Bean', 'Tea',\n",
       "       'Rubber', 'Jute', 'muskmelon', 'banana', 'Rubber', 'Coffee',\n",
       "       'Peas', 'Adzuki Beans', 'mango', 'Sugarcane', 'millet',\n",
       "       'muskmelon', 'Black gram', 'rice', 'Moth Beans', 'rice',\n",
       "       'muskmelon', 'apple', 'Adzuki Beans', 'orange', 'Rubber', 'apple',\n",
       "       'mango', 'Ground Nut', 'papaya', 'Ground Nut', 'mango', 'Chickpea',\n",
       "       'millet', 'millet', 'millet', 'muskmelon', 'Cotton', 'Ground Nut',\n",
       "       'muskmelon', 'Pigeon Peas', 'Tea', 'grapes', 'Ground Nut',\n",
       "       'Coconut', 'Jute', 'orange', 'Lentil', 'watermelon', 'muskmelon',\n",
       "       'Peas', 'apple', 'watermelon', 'Mung Bean', 'apple', 'Sugarcane',\n",
       "       'Tobacco', 'Sugarcane', 'Rubber', 'mango', 'banana', 'mango',\n",
       "       'Cotton', 'millet', 'Sugarcane', 'papaya', 'Coconut',\n",
       "       'Pigeon Peas', 'orange', 'pomegranate', 'Ground Nut', 'Chickpea',\n",
       "       'orange', 'Lentil', 'Black gram', 'watermelon', 'Coconut',\n",
       "       'Lentil', 'Kidney Beans', 'millet', 'Coffee', 'maize',\n",
       "       'pomegranate', 'mango', 'wheat', 'Chickpea', 'watermelon',\n",
       "       'Chickpea', 'rice', 'Tea', 'orange', 'Coffee', 'Pigeon Peas',\n",
       "       'Rubber', 'Rubber', 'millet', 'Kidney Beans', 'Coffee',\n",
       "       'Pigeon Peas', 'Rubber', 'Jute', 'Moth Beans', 'Tea', 'banana',\n",
       "       'Sugarcane', 'Coffee', 'Lentil', 'Cotton', 'pomegranate', 'mango',\n",
       "       'Jute', 'mango', 'rice', 'Ground Nut', 'Lentil', 'Rubber',\n",
       "       'Coffee', 'rice', 'pomegranate', 'Jute', 'Adzuki Beans',\n",
       "       'Kidney Beans', 'Pigeon Peas', 'pomegranate', 'orange', 'Lentil',\n",
       "       'Tea', 'muskmelon', 'banana', 'Jute', 'Peas', 'Cotton', 'Peas',\n",
       "       'Chickpea', 'Peas', 'Rubber', 'watermelon', 'orange', 'Moth Beans',\n",
       "       'millet', 'mango', 'watermelon', 'Peas', 'Coconut', 'Tea',\n",
       "       'Mung Bean', 'Ground Nut', 'Moth Beans', 'banana', 'wheat',\n",
       "       'Rubber', 'orange', 'papaya', 'Tobacco', 'Lentil', 'millet',\n",
       "       'Lentil', 'Kidney Beans', 'orange', 'Chickpea', 'Lentil', 'apple',\n",
       "       'papaya', 'grapes', 'Rubber', 'Tea', 'wheat', 'Sugarcane',\n",
       "       'banana', 'Coffee', 'grapes', 'Tea', 'Pigeon Peas', 'rice',\n",
       "       'mango', 'rice', 'muskmelon', 'Cotton', 'Kidney Beans', 'millet',\n",
       "       'pomegranate', 'millet', 'rice', 'rice', 'Coffee', 'orange',\n",
       "       'Black gram', 'Mung Bean', 'Jute', 'Tobacco', 'Coconut',\n",
       "       'pomegranate', 'Coffee', 'maize', 'wheat', 'mango', 'apple',\n",
       "       'apple', 'Chickpea', 'Moth Beans', 'mango', 'banana', 'Tea',\n",
       "       'Chickpea', 'Chickpea', 'banana', 'watermelon', 'Tobacco',\n",
       "       'Mung Bean', 'maize', 'pomegranate', 'banana', 'banana', 'banana',\n",
       "       'Cotton', 'Tobacco', 'apple', 'Adzuki Beans', 'muskmelon',\n",
       "       'Coconut', 'Mung Bean', 'maize', 'Chickpea', 'Moth Beans',\n",
       "       'Lentil', 'Ground Nut', 'Tea', 'Sugarcane', 'Black gram', 'grapes',\n",
       "       'grapes', 'muskmelon', 'apple', 'Peas', 'Kidney Beans', 'Peas',\n",
       "       'wheat', 'mango', 'Ground Nut', 'pomegranate', 'watermelon',\n",
       "       'Adzuki Beans', 'Coffee', 'Kidney Beans', 'Sugarcane', 'grapes',\n",
       "       'Mung Bean', 'Tea', 'Black gram', 'Coffee', 'grapes', 'apple',\n",
       "       'mango', 'Tea', 'pomegranate', 'mango', 'Cotton', 'Adzuki Beans',\n",
       "       'orange', 'watermelon', 'millet', 'Coconut', 'Mung Bean',\n",
       "       'Coconut', 'Ground Nut', 'Lentil', 'Mung Bean', 'Tea', 'Lentil',\n",
       "       'Mung Bean', 'Pigeon Peas', 'banana', 'watermelon', 'Jute',\n",
       "       'millet', 'grapes', 'papaya', 'apple', 'Adzuki Beans', 'Rubber',\n",
       "       'apple', 'Lentil', 'rice', 'mango', 'watermelon', 'pomegranate',\n",
       "       'millet', 'Ground Nut', 'Coffee', 'grapes', 'Moth Beans', 'wheat',\n",
       "       'Mung Bean', 'Mung Bean', 'mango', 'Tobacco', 'rice', 'Moth Beans',\n",
       "       'muskmelon', 'apple', 'Jute', 'Peas', 'Cotton', 'pomegranate',\n",
       "       'muskmelon', 'Kidney Beans', 'Tobacco', 'maize', 'muskmelon',\n",
       "       'Peas', 'Kidney Beans', 'Pigeon Peas', 'pomegranate', 'grapes',\n",
       "       'Adzuki Beans', 'Mung Bean', 'Tobacco', 'grapes', 'Adzuki Beans',\n",
       "       'Moth Beans', 'Jute', 'Peas', 'Peas', 'apple', 'Sugarcane',\n",
       "       'Sugarcane', 'Cotton', 'papaya', 'millet', 'apple', 'Coconut',\n",
       "       'pomegranate', 'Sugarcane', 'Moth Beans', 'papaya', 'pomegranate',\n",
       "       'Tobacco', 'Mung Bean', 'rice', 'pomegranate', 'millet', 'maize',\n",
       "       'Rubber', 'apple', 'apple', 'orange', 'papaya', 'Moth Beans',\n",
       "       'Moth Beans', 'Sugarcane', 'Coconut', 'maize', 'Lentil', 'maize',\n",
       "       'banana', 'Coffee', 'banana', 'orange', 'maize', 'muskmelon',\n",
       "       'maize', 'watermelon', 'papaya', 'papaya', 'Pigeon Peas',\n",
       "       'watermelon', 'Rubber', 'banana', 'wheat', 'mango', 'Mung Bean',\n",
       "       'watermelon', 'Tea', 'Ground Nut', 'Adzuki Beans', 'Coconut',\n",
       "       'Mung Bean', 'papaya', 'Sugarcane', 'apple', 'Pigeon Peas',\n",
       "       'Chickpea', 'apple', 'wheat', 'Kidney Beans', 'muskmelon',\n",
       "       'papaya', 'apple', 'millet', 'millet'], dtype=object)"
      ]
     },
     "execution_count": 26,
     "metadata": {},
     "output_type": "execute_result"
    }
   ],
   "source": [
    "y_pred=model.predict(X_test)\n",
    "y_pred"
   ]
  },
  {
   "cell_type": "code",
   "execution_count": 27,
   "metadata": {},
   "outputs": [
    {
     "data": {
      "text/plain": [
       "0.9574193548387097"
      ]
     },
     "execution_count": 27,
     "metadata": {},
     "output_type": "execute_result"
    }
   ],
   "source": [
    "A=accuracy_score(y_test,y_pred)\n",
    "A"
   ]
  },
  {
   "cell_type": "code",
   "execution_count": 29,
   "metadata": {},
   "outputs": [
    {
     "name": "stdout",
     "output_type": "stream",
     "text": [
      "              precision    recall  f1-score   support\n",
      "\n",
      "Adzuki Beans       1.00      1.00      1.00        24\n",
      "  Black gram       1.00      1.00      1.00        21\n",
      "    Chickpea       1.00      1.00      1.00        20\n",
      "     Coconut       1.00      1.00      1.00        24\n",
      "      Coffee       0.83      0.96      0.89        26\n",
      "      Cotton       1.00      0.94      0.97        16\n",
      "  Ground Nut       0.92      1.00      0.96        23\n",
      "        Jute       0.95      0.86      0.90        22\n",
      "Kidney Beans       1.00      1.00      1.00        19\n",
      "      Lentil       0.96      1.00      0.98        22\n",
      "  Moth Beans       1.00      0.86      0.93        22\n",
      "   Mung Bean       1.00      1.00      1.00        32\n",
      "        Peas       1.00      1.00      1.00        25\n",
      " Pigeon Peas       1.00      0.87      0.93        23\n",
      "      Rubber       1.00      0.96      0.98        28\n",
      "   Sugarcane       0.91      0.91      0.91        23\n",
      "         Tea       0.96      1.00      0.98        24\n",
      "     Tobacco       0.93      1.00      0.96        25\n",
      "       apple       0.89      0.96      0.93        26\n",
      "      banana       0.89      1.00      0.94        24\n",
      "      grapes       1.00      1.00      1.00        24\n",
      "       maize       0.87      0.93      0.90        28\n",
      "       mango       0.93      0.97      0.95        29\n",
      "      millet       1.00      1.00      1.00        34\n",
      "   muskmelon       1.00      1.00      1.00        27\n",
      "      orange       0.96      0.88      0.92        26\n",
      "      papaya       1.00      1.00      1.00        24\n",
      " pomegranate       0.94      0.94      0.94        33\n",
      "        rice       0.96      0.96      0.96        26\n",
      "  watermelon       1.00      1.00      1.00        25\n",
      "       wheat       0.88      0.70      0.78        30\n",
      "\n",
      "    accuracy                           0.96       775\n",
      "   macro avg       0.96      0.96      0.96       775\n",
      "weighted avg       0.96      0.96      0.96       775\n",
      "\n"
     ]
    }
   ],
   "source": [
    "cr=classification_report(y_test, y_pred)\n",
    "print(cr)"
   ]
  },
  {
   "cell_type": "code",
   "execution_count": 30,
   "metadata": {},
   "outputs": [
    {
     "data": {
      "image/png": "[encoded data removed]",
      "text/plain": [
       "<Figure size 1440x720 with 2 Axes>"
      ]
     },
     "metadata": {
      "needs_background": "light"
     },
     "output_type": "display_data"
    }
   ],
   "source": [
    "cm=confusion_matrix(y_test, y_pred)\n",
    "plt.figure(figsize=(20,10))\n",
    "sns.heatmap(cm, annot=True, cmap='viridis')\n",
    "plt.show()"
   ]
  },
  {
   "cell_type": "code",
   "execution_count": 28,
   "metadata": {},
   "outputs": [
    {
     "data": {
      "text/plain": [
       "['model.pkl']"
      ]
     },
     "execution_count": 28,
     "metadata": {},
     "output_type": "execute_result"
    }
   ],
   "source": [
    "joblib.dump(model,'model.pkl')"
   ]
  },
  {
   "cell_type": "code",
   "execution_count": 31,
   "metadata": {},
   "outputs": [
    {
     "data": {
      "text/html": [
       "<div>\n",
       "<style scoped>\n",
       "    .dataframe tbody tr th:only-of-type {\n",
       "        vertical-align: middle;\n",
       "    }\n",
       "\n",
       "    .dataframe tbody tr th {\n",
       "        vertical-align: top;\n",
       "    }\n",
       "\n",
       "    .dataframe thead th {\n",
       "        text-align: right;\n",
       "    }\n",
       "</style>\n",
       "<table border=\"1\" class=\"dataframe\">\n",
       "  <thead>\n",
       "    <tr style=\"text-align: right;\">\n",
       "      <th></th>\n",
       "      <th>temperature</th>\n",
       "      <th>humidity</th>\n",
       "      <th>ph</th>\n",
       "      <th>rainfall</th>\n",
       "    </tr>\n",
       "  </thead>\n",
       "  <tbody>\n",
       "    <tr>\n",
       "      <th>1842</th>\n",
       "      <td>34.638810</td>\n",
       "      <td>61.385979</td>\n",
       "      <td>7.699507</td>\n",
       "      <td>72.431691</td>\n",
       "    </tr>\n",
       "    <tr>\n",
       "      <th>2308</th>\n",
       "      <td>12.756796</td>\n",
       "      <td>81.624974</td>\n",
       "      <td>6.130310</td>\n",
       "      <td>66.778446</td>\n",
       "    </tr>\n",
       "    <tr>\n",
       "      <th>1601</th>\n",
       "      <td>27.322206</td>\n",
       "      <td>51.278688</td>\n",
       "      <td>4.371746</td>\n",
       "      <td>36.503791</td>\n",
       "    </tr>\n",
       "    <tr>\n",
       "      <th>937</th>\n",
       "      <td>23.643284</td>\n",
       "      <td>78.125867</td>\n",
       "      <td>6.105398</td>\n",
       "      <td>80.961573</td>\n",
       "    </tr>\n",
       "    <tr>\n",
       "      <th>354</th>\n",
       "      <td>25.324908</td>\n",
       "      <td>55.660815</td>\n",
       "      <td>4.633436</td>\n",
       "      <td>246.400403</td>\n",
       "    </tr>\n",
       "    <tr>\n",
       "      <th>978</th>\n",
       "      <td>25.530827</td>\n",
       "      <td>80.046628</td>\n",
       "      <td>5.801048</td>\n",
       "      <td>99.395572</td>\n",
       "    </tr>\n",
       "    <tr>\n",
       "      <th>1091</th>\n",
       "      <td>32.345415</td>\n",
       "      <td>66.037988</td>\n",
       "      <td>6.106239</td>\n",
       "      <td>111.360069</td>\n",
       "    </tr>\n",
       "    <tr>\n",
       "      <th>44</th>\n",
       "      <td>26.313555</td>\n",
       "      <td>82.366990</td>\n",
       "      <td>7.224286</td>\n",
       "      <td>265.535594</td>\n",
       "    </tr>\n",
       "    <tr>\n",
       "      <th>1963</th>\n",
       "      <td>52.996494</td>\n",
       "      <td>46.124633</td>\n",
       "      <td>6.221552</td>\n",
       "      <td>151.215373</td>\n",
       "    </tr>\n",
       "    <tr>\n",
       "      <th>2225</th>\n",
       "      <td>29.104035</td>\n",
       "      <td>79.195886</td>\n",
       "      <td>6.324270</td>\n",
       "      <td>92.078358</td>\n",
       "    </tr>\n",
       "  </tbody>\n",
       "</table>\n",
       "</div>"
      ],
      "text/plain": [
       "      temperature   humidity        ph    rainfall\n",
       "1842    34.638810  61.385979  7.699507   72.431691\n",
       "2308    12.756796  81.624974  6.130310   66.778446\n",
       "1601    27.322206  51.278688  4.371746   36.503791\n",
       "937     23.643284  78.125867  6.105398   80.961573\n",
       "354     25.324908  55.660815  4.633436  246.400403\n",
       "978     25.530827  80.046628  5.801048   99.395572\n",
       "1091    32.345415  66.037988  6.106239  111.360069\n",
       "44      26.313555  82.366990  7.224286  265.535594\n",
       "1963    52.996494  46.124633  6.221552  151.215373\n",
       "2225    29.104035  79.195886  6.324270   92.078358"
      ]
     },
     "execution_count": 31,
     "metadata": {},
     "output_type": "execute_result"
    }
   ],
   "source": [
    "X_test[90:100]"
   ]
  },
  {
   "cell_type": "code",
   "execution_count": 141,
   "metadata": {},
   "outputs": [
    {
     "data": {
      "text/plain": [
       "1842      Blackgram\n",
       "2308         grapes\n",
       "1601      MothBeans\n",
       "937          Cotton\n",
       "354             Tea\n",
       "978          Cotton\n",
       "1091      GroundNut\n",
       "44             rice\n",
       "1963    AdzukiBeans\n",
       "2225         banana\n",
       "Name: label, dtype: object"
      ]
     },
     "execution_count": 141,
     "metadata": {},
     "output_type": "execute_result"
    }
   ],
   "source": [
    "y_test[90:100]"
   ]
  },
  {
   "cell_type": "code",
   "execution_count": null,
   "metadata": {},
   "outputs": [],
   "source": []
  }
 ],
 "metadata": {
  "kernelspec": {
   "display_name": "Python 3.9.12 ('base')",
   "language": "python",
   "name": "python3"
  },
  "language_info": {
   "codemirror_mode": {
    "name": "ipython",
    "version": 3
   },
   "file_extension": ".py",
   "mimetype": "text/x-python",
   "name": "python",
   "nbconvert_exporter": "python",
   "pygments_lexer": "ipython3",
   "version": "3.9.12"
  },
  "orig_nbformat": 4,
  "vscode": {
   "interpreter": {
    "hash": "56d2388d3df2ca295272794875fcd35eeb98da1445d19a0f9f641c08904c0418"
   }
  }
 },
 "nbformat": 4,
 "nbformat_minor": 2
}
